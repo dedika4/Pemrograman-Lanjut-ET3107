{
 "cells": [
  {
   "cell_type": "code",
   "execution_count": 5,
   "metadata": {},
   "outputs": [
    {
     "name": "stdout",
     "output_type": "stream",
     "text": [
      "Enter a word: dian99\n",
      "digiagan99\n"
     ]
    }
   ],
   "source": [
    "original = input('Enter a word: ')\n",
    "new1 = ''\n",
    "for huruf in original:\n",
    "    if huruf == 'a' or huruf == 'i' or huruf == 'u' or huruf == 'e' or huruf == 'o':\n",
    "        new1 += huruf + 'g' + huruf\n",
    "    else:\n",
    "        new1 += huruf\n",
    "print(new1)"
   ]
  },
  {
   "cell_type": "code",
   "execution_count": null,
   "metadata": {},
   "outputs": [],
   "source": []
  }
 ],
 "metadata": {
  "kernelspec": {
   "display_name": "Python 3",
   "language": "python",
   "name": "python3"
  },
  "language_info": {
   "codemirror_mode": {
    "name": "ipython",
    "version": 3
   },
   "file_extension": ".py",
   "mimetype": "text/x-python",
   "name": "python",
   "nbconvert_exporter": "python",
   "pygments_lexer": "ipython3",
   "version": "3.7.3"
  }
 },
 "nbformat": 4,
 "nbformat_minor": 2
}
