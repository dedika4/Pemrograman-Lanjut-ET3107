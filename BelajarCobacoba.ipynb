{
 "cells": [
  {
   "cell_type": "code",
   "execution_count": 3,
   "metadata": {},
   "outputs": [
    {
     "name": "stdout",
     "output_type": "stream",
     "text": [
      "Welcome to Python!\n",
      "3\n"
     ]
    }
   ],
   "source": [
    "  print (\"Welcome to Python!\")\n",
    "  my_variable = 10\n",
    "  my_int = 7\n",
    "  my_float = 1.23\n",
    "  my_bool = True\n",
    "  # change value\n",
    "  my_int = 7\n",
    "  my_int = 3\n",
    "  print (my_int)"
   ]
  },
  {
   "cell_type": "code",
   "execution_count": 14,
   "metadata": {},
   "outputs": [
    {
     "data": {
      "text/plain": [
       "12"
      ]
     },
     "execution_count": 14,
     "metadata": {},
     "output_type": "execute_result"
    }
   ],
   "source": [
    "# first\n",
    "def spam():\n",
    "    eggs = 12\n",
    "    return eggs\n",
    "    print (spam())\n",
    "spam()\n",
    "# second\n",
    "def spam():\n",
    "    eggs = 12\n",
    "    return eggs\n",
    "    print (spam())\n",
    "spam()"
   ]
  },
  {
   "cell_type": "code",
   "execution_count": 19,
   "metadata": {},
   "outputs": [
    {
     "name": "stdout",
     "output_type": "stream",
     "text": [
      "11000.6\n",
      "100\n",
      "1\n"
     ]
    }
   ],
   "source": [
    "# single line comment\n",
    "\"\"\"test\n",
    "multi lines comment\n",
    "\"\"\"\n",
    "addition = 72 + 23\n",
    "subtraction = 108 - 204\n",
    "multiplication = 108 * 0.5\n",
    "division = 108 / 9\n",
    "# addition\n",
    "count_to = 5000 + 6000.6\n",
    "print (count_to)\n",
    "# square, exponentiation, to the power of\n",
    "eggs = 10**2\n",
    "print (eggs)\n",
    "# modulo\n",
    "spam = 5 % 4\n",
    "print (spam)\n",
    "# 1, modulo"
   ]
  },
  {
   "cell_type": "code",
   "execution_count": 21,
   "metadata": {},
   "outputs": [
    {
     "name": "stdout",
     "output_type": "stream",
     "text": [
      "1.522756\n"
     ]
    }
   ],
   "source": [
    "# comment\n",
    "monty = True\n",
    "python = 1.234\n",
    "monty_python = python ** 2\n",
    "print(monty_python)"
   ]
  },
  {
   "cell_type": "code",
   "execution_count": 22,
   "metadata": {},
   "outputs": [
    {
     "name": "stdout",
     "output_type": "stream",
     "text": [
      "54.63\n"
     ]
    }
   ],
   "source": [
    "meal = 44.50\n",
    "# 6.75%\n",
    "tax = 0.0675\n",
    "# 15%\n",
    "tip = 0.15\n",
    "meal = meal + meal * tax\n",
    "total = meal + meal * tip\n",
    "print(\"%.2f\" % total)"
   ]
  },
  {
   "cell_type": "code",
   "execution_count": 23,
   "metadata": {},
   "outputs": [
    {
     "name": "stdout",
     "output_type": "stream",
     "text": [
      "Enter a word:ianday\n",
      "dian\n"
     ]
    }
   ],
   "source": [
    "original = input('Enter a word:')\n",
    "if len(original) > 0 and original.isalpha():\n",
    "    if original[len(original)-1] == 'y' and original[(len(original)-2)] == 'a':\n",
    "        word = original[0:len(original)-3]\n",
    "        first = original[len(original)-3]\n",
    "        new_word = first + word \n",
    "        print(new_word)\n",
    "    else:\n",
    "        print('bukan')\n",
    "else:\n",
    "    print('empty')"
   ]
  },
  {
   "cell_type": "code",
   "execution_count": 30,
   "metadata": {},
   "outputs": [
    {
     "name": "stdout",
     "output_type": "stream",
     "text": [
      "Graham\n",
      "This isn't flying, this is falling with style!\n",
      "Y\n"
     ]
    }
   ],
   "source": [
    "caesar = \"Graham\"\n",
    "print (caesar)\n",
    "# Escaping characters\n",
    "abc = 'This isn\\'t flying, this is falling with style!'\n",
    "print (abc)\n",
    "\"\"\"\n",
    "The string \"PYTHON\" has six characters,\n",
    "numbered 0 to 5, as shown below:\n",
    "+---+---+---+---+---+---+\n",
    "| P | Y | T | H | O | N |\n",
    "+---+---+---+---+---+---+\n",
    "  0   1   2   3   4   5\n",
    "So if you wanted \"Y\", you could just type\n",
    "\"PYTHON\"[1] (always start counting from 0!)\n",
    "\"\"\"\n",
    "fifth_letter = \"MONTY\"\n",
    "print (fifth_letter[4])\n",
    "# Y"
   ]
  },
  {
   "cell_type": "code",
   "execution_count": 36,
   "metadata": {},
   "outputs": [
    {
     "name": "stdout",
     "output_type": "stream",
     "text": [
      "14\n",
      "norwegian blue\n",
      "NORWEGIAN BLUE\n",
      "3.14\n",
      "27\n",
      "THE MINISTRY OF SILLY WALKS\n"
     ]
    }
   ],
   "source": [
    "parrot = \"Norwegian Blue\"\n",
    "print (len(parrot))\n",
    "#14\n",
    "# String methods: len(), lower(), upper(), str()\n",
    "parrot = \"Norwegian Blue\"\n",
    "print (parrot.lower()) \n",
    "print (parrot.upper())\n",
    "# to string\n",
    "pi=3.14\n",
    "print (str(pi))\n",
    "# review\n",
    "ministry = \"The Ministry of Silly Walks\"\n",
    "print (len(ministry)) \n",
    "print (ministry.upper())"
   ]
  },
  {
   "cell_type": "code",
   "execution_count": 47,
   "metadata": {},
   "outputs": [
    {
     "name": "stdout",
     "output_type": "stream",
     "text": [
      "Spam and eggs\n",
      "The value of pi is around 3.14\n",
      "The value of pi is around 3.14\n",
      "Let's not go to Camelot. 'Tis a silly place.\n",
      "Hello Mike\n",
      "What is your name?dian\n",
      "What is your quest?a\n",
      "What is your favorite color?b\n",
      "How old are you?19\n",
      "Ah, so your name is dian, your quest is a, and your favorite color is b. Haha, you are 19 years old. \n"
     ]
    }
   ],
   "source": [
    "# to string, printing variables, string concatenation\n",
    "print (\"Spam \" + \"and \" + \"eggs\")\n",
    "print (\"The value of pi is around \" + \"3.14\") \n",
    "# error\n",
    "print (\"The value of pi is around \" + str(3.14))\n",
    "string_1 = \"Camelot\"\n",
    "string_2 = \"place\"\n",
    "print (\"Let's not go to %s. 'Tis a silly %s.\" % (string_1, string_2))\n",
    "# string formatting\n",
    "name = \"Mike\"\n",
    "print (\"Hello %s\" % (name))\n",
    "# string formatting, tanda %s dan %\n",
    "# fungsi raw_input (input dari keyboard pas runtime)\n",
    "name = input(\"What is your name?\")\n",
    "quest = input(\"What is your quest?\")\n",
    "color = input(\"What is your favorite color?\")\n",
    "age = int(input(\"How old are you?\"))\n",
    "print (\"Ah, so your name is %s, your quest is %s, \" \\\n",
    "\"and your favorite color is %s. Haha, you are %i years old. \" % (name, quest, color, age))"
   ]
  },
  {
   "cell_type": "code",
   "execution_count": 52,
   "metadata": {},
   "outputs": [
    {
     "name": "stdout",
     "output_type": "stream",
     "text": [
      "2019-09-18 08:21:00.046308\n",
      "2019\n",
      "9\n",
      "18\n",
      "2019-9-18\n",
      "18/9/2019\n",
      "8\n",
      "21\n",
      "0\n",
      "8:21:0\n",
      "18/9/2019 8:21:0\n"
     ]
    }
   ],
   "source": [
    "from datetime import datetime\n",
    "now = datetime.now()\n",
    "print (now)\n",
    "# member, bukan method\n",
    "print (now.year)\n",
    "print (now.month)\n",
    "print (now.day)\n",
    "print ('%s-%s-%s' % (now.year, now.month, now.day))\n",
    "print ('%s/%s/%s' % (now.day, now.month, now.year))\n",
    "print (now.hour)\n",
    "print (now.minute)\n",
    "print (now.second)\n",
    "print ('%s:%s:%s' % (now.hour, now.minute, now.second))\n",
    "print ('%s/%s/%s %s:%s:%s' % (now.day, now.month, now.year,now.hour, now.minute, now.second))"
   ]
  },
  {
   "cell_type": "code",
   "execution_count": 58,
   "metadata": {},
   "outputs": [
    {
     "name": "stdout",
     "output_type": "stream",
     "text": [
      "You've just entered the clinic!\n",
      "Do you take the door on the left or the right?\n",
      "Type left or right and hit 'Enter'.right\n",
      "Of course this is the Argument Room, I've told you that already!\n"
     ]
    }
   ],
   "source": [
    "# raw_input\n",
    "def clinic():\n",
    "    print (\"You've just entered the clinic!\")\n",
    "    print (\"Do you take the door on the left or the right?\")\n",
    "    answer = input(\"Type left or right and hit 'Enter'.\").lower()\n",
    "    if answer == \"left\" or answer == \"l\":\n",
    "        print (\"This is the Verbal Abuse Room, you heap of parrot droppings!\")\n",
    "    elif answer == \"right\" or answer == \"r\":\n",
    "        print (\"Of course this is the Argument Room, I've told you that already!\")\n",
    "    else:\n",
    "        print (\"You didn't pick left or right! Try again.\")\n",
    "        clinic()\n",
    "clinic()"
   ]
  },
  {
   "cell_type": "code",
   "execution_count": 59,
   "metadata": {},
   "outputs": [],
   "source": [
    "bool_one = True    # 17 < 328    \n",
    "bool_two = True    # 100 == (2 * 50)\n",
    "bool_three = True  # 19 <= 19 \n",
    "bool_four = False  # -22 >= -18 \n",
    "bool_five = False  # 99 != (98 + 1)\n",
    "bool_one = False   # (20 - 10) > 15\n",
    "bool_two = False   # (10 + 17) == 3**16\n",
    "bool_three = False # 1**2 <= -1\n",
    "bool_four = True   # 40 * 4 >= -4\n",
    "bool_five = False  # 100 != 10**2\n",
    "# -----\n",
    "bool_one = 3 < 5     # True\n",
    "bool_two = 3 > 5     # False\n",
    "bool_three = 5 == 5  # True\n",
    "bool_four = 3 != 3   # False\n",
    "bool_five = 3 <= 3   # True"
   ]
  },
  {
   "cell_type": "code",
   "execution_count": 60,
   "metadata": {},
   "outputs": [],
   "source": [
    "bool_one   = False and False\n",
    "bool_two   = -(-(-(-2))) == -2 and 4 >= 16**0.5\n",
    "bool_three = 19 % 4 != 300 / 10 / 10 and False\n",
    "bool_four  = -(1**2) < 2**0 and 10 % 10 <= 20 - 10 * 2\n",
    "bool_five  = True and True\n",
    "# -----\n",
    "bool_one   = 2**3 == 108 % 100 or 'Cleese' == 'King Arthur'\n",
    "bool_two   = True or False\n",
    "bool_three = 100**0.5 >= 50 or False\n",
    "bool_four  = True or True\n",
    "bool_five  = 1**100 == 100**1 or 3 * 2 * 1 != 3 + 2 + 1"
   ]
  },
  {
   "cell_type": "code",
   "execution_count": null,
   "metadata": {},
   "outputs": [],
   "source": []
  }
 ],
 "metadata": {
  "kernelspec": {
   "display_name": "Python 3",
   "language": "python",
   "name": "python3"
  },
  "language_info": {
   "codemirror_mode": {
    "name": "ipython",
    "version": 3
   },
   "file_extension": ".py",
   "mimetype": "text/x-python",
   "name": "python",
   "nbconvert_exporter": "python",
   "pygments_lexer": "ipython3",
   "version": "3.7.3"
  }
 },
 "nbformat": 4,
 "nbformat_minor": 2
}
